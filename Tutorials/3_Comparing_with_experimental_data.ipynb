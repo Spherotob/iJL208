{
 "cells": [
  {
   "cell_type": "code",
   "execution_count": 1,
   "metadata": {},
   "outputs": [],
   "source": [
    "import cobra\n",
    "import pandas as pd\n",
    "import seaborn as sb\n",
    "from util.manipulation import load_latest_model\n",
    "import numpy as np\n",
    "import matplotlib.pyplot as plt\n",
    "from os import path"
   ]
  },
  {
   "cell_type": "markdown",
   "metadata": {},
   "source": [
    "### Tutorial 3: Comparing with experimental data\n",
    "\n",
    "In this tutorial, we will compare the model predictions to experimental data. The validation of the predictions is an indicator of the reliability of a model. As we should always see things on the bright side, the predictions that were not validated by the model are opportunities to learn new biology, remember that no model is perfect but some are useful. We will compare the following model predictions with experimental data:\n",
    "\n",
    "    1- Gene essentiality\n",
    "    2- Flux states vs gene expression\n",
    "    3- Metabolic capabilities"
   ]
  },
  {
   "cell_type": "code",
   "execution_count": 2,
   "metadata": {},
   "outputs": [],
   "source": [
    "#Load the model\n",
    "model = load_latest_model()"
   ]
  },
  {
   "cell_type": "markdown",
   "metadata": {},
   "source": [
    "### 1- Compare essentiality predictions with experimental data"
   ]
  },
  {
   "cell_type": "code",
   "execution_count": 5,
   "metadata": {},
   "outputs": [],
   "source": [
    "#Load the essentiality data\n",
    "essentiality_data = pd.read_csv(path.join('../data','Mflorum_essentiality.csv'), index_col=0)"
   ]
  },
  {
   "cell_type": "code",
   "execution_count": 12,
   "metadata": {},
   "outputs": [
    {
     "data": {
      "text/plain": [
       "Index(['Genes', 'Essentiality'], dtype='object')"
      ]
     },
     "execution_count": 12,
     "metadata": {},
     "output_type": "execute_result"
    }
   ],
   "source": [
    "essentiality_data.columns"
   ]
  },
  {
   "cell_type": "code",
   "execution_count": 7,
   "metadata": {},
   "outputs": [],
   "source": [
    "#Compare single gene essentiality predictions with essentiality data\n",
    "#1- Generate single gene essentiality prediction\n",
    "from cobra.flux_analysis import single_gene_deletion\n",
    "essentiality_prediction_raw = single_gene_deletion(model)\n",
    "#Modify the dataframe to make it useful\n",
    "genes, essentiality = [],[]\n",
    "growth_threshold = model.slim_optimize() * 0.5\n",
    "for i,row in essentiality_prediction_raw.iterrows():\n",
    "    genes.append(list(i)[0])\n",
    "    if row['growth'] < growth_threshold:\n",
    "        essentiality.append('E')\n",
    "    elif row['growth'] >= growth_threshold:\n",
    "        essentiality.append('NE')\n",
    "    else:\n",
    "        essentiality.append('E')\n",
    "#Put the info in a dataframe      \n",
    "essentiality_prediction = pd.DataFrame({'Genes':genes,'Essentiality':essentiality})"
   ]
  },
  {
   "cell_type": "code",
   "execution_count": 9,
   "metadata": {},
   "outputs": [],
   "source": [
    "#2- Compare experimental essentiality to predictions\n",
    "essentiality_comparison = pd.merge(left=essentiality_data, right=essentiality_prediction, on='Genes',suffixes=('_experimental','_predicted'))"
   ]
  },
  {
   "cell_type": "code",
   "execution_count": 11,
   "metadata": {},
   "outputs": [],
   "source": [
    "#3- Replace E and NE with 1 and 0 for ploting\n",
    "essentiality_comparison.replace(to_replace=['E','NE'],value=[1,0],inplace=True)"
   ]
  },
  {
   "cell_type": "code",
   "execution_count": 13,
   "metadata": {},
   "outputs": [],
   "source": [
    "essentiality_comparison.index = essentiality_comparison.Genes.to_list()\n",
    "del essentiality_comparison['Genes']"
   ]
  },
  {
   "cell_type": "code",
   "execution_count": 15,
   "metadata": {},
   "outputs": [
    {
     "data": {
      "text/plain": [
       "<matplotlib.axes._subplots.AxesSubplot at 0x7f28f81c7e48>"
      ]
     },
     "execution_count": 15,
     "metadata": {},
     "output_type": "execute_result"
    },
    {
     "data": {
      "image/png": "[encoded data removed]",
      "text/plain": [
       "<Figure size 216x720 with 1 Axes>"
      ]
     },
     "metadata": {},
     "output_type": "display_data"
    }
   ],
   "source": [
    "essentiality_comparison.sort_values('Essentiality_predicted',inplace=True)\n",
    "fig = plt.figure(figsize=(3,10))\n",
    "ax = fig.add_subplot(111)\n",
    "sb.heatmap(essentiality_comparison,cbar=False,ax=ax)"
   ]
  },
  {
   "cell_type": "code",
   "execution_count": 20,
   "metadata": {},
   "outputs": [
    {
     "data": {
      "text/plain": [
       "66"
      ]
     },
     "execution_count": 20,
     "metadata": {},
     "output_type": "execute_result"
    }
   ],
   "source": [
    "#4- Get the number of true positive, true negative, false positive, false negatives\n",
    "true_positives = essentiality_comparison[(essentiality_comparison['Essentiality_experimental'] == 1) &\\\n",
    "                                        (essentiality_comparison['Essentiality_predicted'] == 1)]\n",
    "len(true_positives)"
   ]
  },
  {
   "cell_type": "code",
   "execution_count": 21,
   "metadata": {},
   "outputs": [],
   "source": [
    "#5- Now calculate true negatives\n",
    "true_negatives = essentiality_comparison[(essentiality_comparison['Essentiality_experimental'] == 0) &\\\n",
    "                                        (essentiality_comparison['Essentiality_predicted'] == 0)]"
   ]
  },
  {
   "cell_type": "code",
   "execution_count": 22,
   "metadata": {},
   "outputs": [],
   "source": [
    "#6- Now calculate false positives\n",
    "false_positives = essentiality_comparison[(essentiality_comparison['Essentiality_experimental'] == 0) &\\\n",
    "                                        (essentiality_comparison['Essentiality_predicted'] == 1)]"
   ]
  },
  {
   "cell_type": "code",
   "execution_count": 23,
   "metadata": {},
   "outputs": [],
   "source": [
    "#7- Now calculate false negatives\n",
    "false_negatives = essentiality_comparison[(essentiality_comparison['Essentiality_experimental'] == 1) &\\\n",
    "                                        (essentiality_comparison['Essentiality_predicted'] == 0)]"
   ]
  },
  {
   "cell_type": "code",
   "execution_count": 25,
   "metadata": {},
   "outputs": [
    {
     "data": {
      "text/plain": [
       "67.14975845410628"
      ]
     },
     "execution_count": 25,
     "metadata": {},
     "output_type": "execute_result"
    }
   ],
   "source": [
    "#8- Get the % of accuracy (total of true predictions compared to total predictions)\n",
    "accuracy = ((len(true_positives) + len(true_negatives)) / len(model.genes)) * 100\n",
    "accuracy"
   ]
  },
  {
   "cell_type": "markdown",
   "metadata": {},
   "source": [
    "### 2- Compare gene expression data with experimental gene expression"
   ]
  },
  {
   "cell_type": "code",
   "execution_count": 81,
   "metadata": {},
   "outputs": [],
   "source": [
    "#Pre-processing of data to yield the csv file used in this tutorial\n",
    "# #Read excel file\n",
    "# supp_data_from_dom = pd.read_excel('../../Mmodel_paper/Supplementary_files/DatasetS7_v2.0.xlsx')\n",
    "# #Extract only two columns\n",
    "# proteomic_raw = supp_data_from_dom[['gene name (RefSeq)','number of protein molecules']]\n",
    "# #Remove first row\n",
    "# proteomic_raw = proteomic_raw[1:]\n",
    "# #Change column names\n",
    "# proteomic_raw.rename(columns={\"gene name (RefSeq)\": \"Genes\", \"number of protein molecules\": \"protein_count\"},inplace=True)\n",
    "# #Remove NAN values (genes that had no match between rast and refseq)\n",
    "# proteomic_raw.dropna(how='any',axis=0,inplace=True)\n",
    "# #Capitalize all in the Genes column\n",
    "# proteomic_raw['Genes'] = proteomic_raw['Genes'].str.capitalize()\n",
    "# #Save to csv\n",
    "# proteomic_raw.to_csv('../data/Mflorum_proteomic.csv')"
   ]
  },
  {
   "cell_type": "code",
   "execution_count": 29,
   "metadata": {},
   "outputs": [],
   "source": [
    "#0- Load the expression data\n",
    "proteomic_data = pd.read_csv('../data/Mflorum_proteomic.csv', index_col=0)\n",
    "transcriptomic_data = pd.read_csv('../data/Mflorum_transcriptomic.csv', index_col=0)"
   ]
  },
  {
   "cell_type": "code",
   "execution_count": 30,
   "metadata": {},
   "outputs": [
    {
     "data": {
      "text/plain": [
       "(Index(['Genes', 'protein_count'], dtype='object'),\n",
       " Index(['Gene', 'Abundance'], dtype='object'))"
      ]
     },
     "execution_count": 30,
     "metadata": {},
     "output_type": "execute_result"
    }
   ],
   "source": [
    "proteomic_data.columns, transcriptomic_data.columns"
   ]
  },
  {
   "cell_type": "code",
   "execution_count": 32,
   "metadata": {},
   "outputs": [],
   "source": [
    "#Filter the data to get only the genes where both transcriptomic and proteomic agree\n",
    "#this has been determined at \n",
    "proteomic_threshold = 23\n",
    "transcriptomic_threshold = 168\n",
    "#Apply the threshold to determine expressed and non-expressed genes\n",
    "proteomic_expression = []\n",
    "for i,row in proteomic_data.iterrows():\n",
    "    if row['protein_count'] > proteomic_threshold:\n",
    "        proteomic_expression.append({'Genes':row['Genes'], 'Expression_protein':1})\n",
    "    else:\n",
    "        proteomic_expression.append({'Genes':row['Genes'], 'Expression_protein':0})\n",
    "        \n",
    "proteomic_expression = pd.DataFrame(proteomic_expression)\n",
    "\n",
    "transcriptomic_expression = []\n",
    "for i,row in transcriptomic_data.iterrows():\n",
    "    if row['Abundance'] > transcriptomic_threshold:\n",
    "        transcriptomic_expression.append({'Genes':row['Gene'], 'Expression_rna':1})\n",
    "    else:\n",
    "        transcriptomic_expression.append({'Genes':row['Gene'], 'Expression_rna':0})\n",
    "        \n",
    "transcriptomic_expression = pd.DataFrame(transcriptomic_expression)"
   ]
  },
  {
   "cell_type": "code",
   "execution_count": 33,
   "metadata": {},
   "outputs": [],
   "source": [
    "#Merge\n",
    "all_expression = pd.merge(left=transcriptomic_expression, right=proteomic_expression,on='Genes')\n",
    "# all_expression.index = all_expression['Genes'].to_list()\n",
    "# del all_expression['Genes']"
   ]
  },
  {
   "cell_type": "code",
   "execution_count": 34,
   "metadata": {},
   "outputs": [],
   "source": [
    "#Get the expression that is consistent amongst both\n",
    "consistent_expression = all_expression[all_expression['Expression_rna'] == all_expression['Expression_protein']]"
   ]
  },
  {
   "cell_type": "code",
   "execution_count": 36,
   "metadata": {},
   "outputs": [
    {
     "name": "stdout",
     "output_type": "stream",
     "text": [
      "492\n"
     ]
    }
   ],
   "source": [
    "#Display the number of genes that have a consistent expression at the given threshold\n",
    "print(len(consistent_expression))"
   ]
  },
  {
   "cell_type": "code",
   "execution_count": 37,
   "metadata": {},
   "outputs": [],
   "source": [
    "#Now compare with model predictions\n",
    "def generate_predictions(model):\n",
    "    from cobra.flux_analysis import pfba\n",
    "    #Run pFBA\n",
    "    pfba_solution = pfba(model)\n",
    "    #Get more info on current active fluxes predictions\n",
    "    fluxes = pfba_solution.fluxes\n",
    "    #Associate the pFBA reaction fluxes to the genes that catalyze them\n",
    "    gene_list,flux_list = [],[]\n",
    "    for k,v in pfba_solution.fluxes.items():\n",
    "        react = model.reactions.get_by_id(k)\n",
    "        GPR = react.genes\n",
    "        for gene in GPR:\n",
    "            gene_list.append(gene.id)\n",
    "            flux_list.append(v)\n",
    "    df_pFBA_flux_gene = pd.DataFrame({'Genes':gene_list,'Flux':flux_list})\n",
    "    output_df = df_pFBA_flux_gene.groupby('Genes').agg(lambda x: np.average(x))\n",
    "\n",
    "    unique_genes,unique_flux = [],[]\n",
    "    for i,row in output_df.iterrows():\n",
    "        unique_genes.append(i)\n",
    "        unique_flux.append(row.Flux)\n",
    "    df_pFBA_genes = pd.DataFrame({'Genes':unique_genes,'Flux':unique_flux},\n",
    "                              columns=['Genes','Flux'])\n",
    "    #Convert fluxes to binary\n",
    "    flux_status = []\n",
    "    for i,row in df_pFBA_genes.iterrows():\n",
    "        if abs(row['Flux']) > 1e-8:\n",
    "            flux_status.append(1)\n",
    "        else:\n",
    "            flux_status.append(0)\n",
    "    del df_pFBA_genes['Flux']\n",
    "    df_pFBA_genes['Flux'] = flux_status\n",
    "    \n",
    "    return df_pFBA_genes\n",
    "\n",
    "pFBA_predictions = generate_predictions(model)"
   ]
  },
  {
   "cell_type": "code",
   "execution_count": 38,
   "metadata": {},
   "outputs": [],
   "source": [
    "#Merge the observations with the predictions\n",
    "model_expression_comparison = pd.merge(left=pFBA_predictions, right=consistent_expression, on='Genes',how='inner')"
   ]
  },
  {
   "cell_type": "code",
   "execution_count": 40,
   "metadata": {},
   "outputs": [
    {
     "data": {
      "text/plain": [
       "199"
      ]
     },
     "execution_count": 40,
     "metadata": {},
     "output_type": "execute_result"
    }
   ],
   "source": [
    "len(pFBA_predictions)"
   ]
  },
  {
   "cell_type": "code",
   "execution_count": 41,
   "metadata": {},
   "outputs": [
    {
     "name": "stdout",
     "output_type": "stream",
     "text": [
      "161\n"
     ]
    }
   ],
   "source": [
    "#Get the number of genes with consistent expression data in the model\n",
    "print(len(model_expression_comparison))"
   ]
  },
  {
   "cell_type": "code",
   "execution_count": 46,
   "metadata": {},
   "outputs": [
    {
     "data": {
      "text/plain": [
       "<matplotlib.axes._subplots.AxesSubplot at 0x7f28e7dcf4a8>"
      ]
     },
     "execution_count": 46,
     "metadata": {},
     "output_type": "execute_result"
    },
    {
     "data": {
      "image/png": "[encoded data removed]",
      "text/plain": [
       "<Figure size 432x288 with 1 Axes>"
      ]
     },
     "metadata": {},
     "output_type": "display_data"
    }
   ],
   "source": [
    "#Plot the heatmap\n",
    "sb.heatmap(model_expression_comparison[['Flux','Expression_rna','Expression_protein']],cbar=False)"
   ]
  },
  {
   "cell_type": "code",
   "execution_count": 125,
   "metadata": {},
   "outputs": [],
   "source": [
    "#Get the TP, TN, FP, FN"
   ]
  }
 ],
 "metadata": {
  "kernelspec": {
   "display_name": "Python 3",
   "language": "python",
   "name": "python3"
  },
  "language_info": {
   "codemirror_mode": {
    "name": "ipython",
    "version": 3
   },
   "file_extension": ".py",
   "mimetype": "text/x-python",
   "name": "python",
   "nbconvert_exporter": "python",
   "pygments_lexer": "ipython3",
   "version": "3.6.9"
  }
 },
 "nbformat": 4,
 "nbformat_minor": 4
}
