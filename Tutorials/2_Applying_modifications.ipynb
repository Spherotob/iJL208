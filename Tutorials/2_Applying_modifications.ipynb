{
 "cells": [
  {
   "cell_type": "code",
   "execution_count": 1,
   "metadata": {},
   "outputs": [],
   "source": [
    "import cobra\n",
    "import pandas as pd\n",
    "from util.manipulation import load_latest_model\n",
    "import numpy as np\n",
    "import matplotlib.pyplot as plt"
   ]
  },
  {
   "cell_type": "markdown",
   "metadata": {},
   "source": [
    "### Tutorial 2: Applying modifications\n",
    "\n",
    "In this tutorial, we will perform modifications to the model and observe the resulting predictions. The list of modifications that we will attempt are listed here:\n",
    "\n",
    "    1- Modify the objective \n",
    "    2- Modify the energy demands\n",
    "    3- Change the model growth media (i.e.: changing the utilized carbohydrate)"
   ]
  },
  {
   "cell_type": "code",
   "execution_count": 2,
   "metadata": {},
   "outputs": [
    {
     "data": {
      "text/plain": [
       "{<Reaction BIOMASS_step3_c at 0x7f4e1b69c1d0>: 1.0}"
      ]
     },
     "execution_count": 2,
     "metadata": {},
     "output_type": "execute_result"
    }
   ],
   "source": [
    "#Load the model\n",
    "model = load_latest_model()\n",
    "#Changing the objective\n",
    "#Get the current model objective\n",
    "from cobra.util.solver import linear_reaction_coefficients\n",
    "linear_reaction_coefficients(model)"
   ]
  },
  {
   "cell_type": "code",
   "execution_count": 3,
   "metadata": {},
   "outputs": [
    {
     "data": {
      "text/html": [
       "\n",
       "        <table>\n",
       "            <tr>\n",
       "                <td><strong>Reaction identifier</strong></td><td>ATPM</td>\n",
       "            </tr><tr>\n",
       "                <td><strong>Name</strong></td><td>ATP maintenance requirement</td>\n",
       "            </tr><tr>\n",
       "                <td><strong>Memory address</strong></td>\n",
       "                <td>0x07f4e1b8be128</td>\n",
       "            </tr><tr>\n",
       "                <td><strong>Stoichiometry</strong></td>\n",
       "                <td>\n",
       "                    <p style='text-align:right'>atp_c + h2o_c --> adp_c + h_c + pi_c</p>\n",
       "                    <p style='text-align:right'>ATP + H2O --> ADP + H+ + Phosphate</p>\n",
       "                </td>\n",
       "            </tr><tr>\n",
       "                <td><strong>GPR</strong></td><td></td>\n",
       "            </tr><tr>\n",
       "                <td><strong>Lower bound</strong></td><td>15.306122</td>\n",
       "            </tr><tr>\n",
       "                <td><strong>Upper bound</strong></td><td>1000.0</td>\n",
       "            </tr>\n",
       "        </table>\n",
       "        "
      ],
      "text/plain": [
       "<Reaction ATPM at 0x7f4e1b8be128>"
      ]
     },
     "execution_count": 3,
     "metadata": {},
     "output_type": "execute_result"
    }
   ],
   "source": [
    "#The model currently attemtps to optimise biomass production\n",
    "#We will try to optimize for the production of ATP\n",
    "#Conveniently a pseudoreaction exists in the model that simply consummes ATP\n",
    "model.reactions.ATPM"
   ]
  },
  {
   "cell_type": "code",
   "execution_count": 4,
   "metadata": {},
   "outputs": [],
   "source": [
    "#We will change the objective to this reaction\n",
    "#First let's set the linear coefficient to 0 for all reactions in the model\n",
    "for r in model.reactions:\n",
    "    r.objective_coefficient = 0."
   ]
  },
  {
   "cell_type": "code",
   "execution_count": 6,
   "metadata": {},
   "outputs": [
    {
     "data": {
      "text/html": [
       "<strong><em>Optimal</em> solution with objective value 0.000</strong><br><div>\n",
       "<style scoped>\n",
       "    .dataframe tbody tr th:only-of-type {\n",
       "        vertical-align: middle;\n",
       "    }\n",
       "\n",
       "    .dataframe tbody tr th {\n",
       "        vertical-align: top;\n",
       "    }\n",
       "\n",
       "    .dataframe thead th {\n",
       "        text-align: right;\n",
       "    }\n",
       "</style>\n",
       "<table border=\"1\" class=\"dataframe\">\n",
       "  <thead>\n",
       "    <tr style=\"text-align: right;\">\n",
       "      <th></th>\n",
       "      <th>fluxes</th>\n",
       "      <th>reduced_costs</th>\n",
       "    </tr>\n",
       "  </thead>\n",
       "  <tbody>\n",
       "    <tr>\n",
       "      <th>AACPS6</th>\n",
       "      <td>0.095716</td>\n",
       "      <td>0.0</td>\n",
       "    </tr>\n",
       "    <tr>\n",
       "      <th>ACKr</th>\n",
       "      <td>-10.200000</td>\n",
       "      <td>-0.0</td>\n",
       "    </tr>\n",
       "    <tr>\n",
       "      <th>ACPPAT180</th>\n",
       "      <td>0.047858</td>\n",
       "      <td>0.0</td>\n",
       "    </tr>\n",
       "    <tr>\n",
       "      <th>ACPS1</th>\n",
       "      <td>0.000000</td>\n",
       "      <td>0.0</td>\n",
       "    </tr>\n",
       "    <tr>\n",
       "      <th>ACPpds</th>\n",
       "      <td>0.000000</td>\n",
       "      <td>0.0</td>\n",
       "    </tr>\n",
       "    <tr>\n",
       "      <th>...</th>\n",
       "      <td>...</td>\n",
       "      <td>...</td>\n",
       "    </tr>\n",
       "    <tr>\n",
       "      <th>G6PDH2r</th>\n",
       "      <td>0.000000</td>\n",
       "      <td>-0.0</td>\n",
       "    </tr>\n",
       "    <tr>\n",
       "      <th>GND</th>\n",
       "      <td>0.000000</td>\n",
       "      <td>0.0</td>\n",
       "    </tr>\n",
       "    <tr>\n",
       "      <th>TALA</th>\n",
       "      <td>0.000000</td>\n",
       "      <td>0.0</td>\n",
       "    </tr>\n",
       "    <tr>\n",
       "      <th>NOX2</th>\n",
       "      <td>10.134848</td>\n",
       "      <td>0.0</td>\n",
       "    </tr>\n",
       "    <tr>\n",
       "      <th>BIOMASS_step3_c</th>\n",
       "      <td>0.256786</td>\n",
       "      <td>0.0</td>\n",
       "    </tr>\n",
       "  </tbody>\n",
       "</table>\n",
       "<p>364 rows × 2 columns</p>\n",
       "</div>"
      ],
      "text/plain": [
       "<Solution 0.000 at 0x7f4e1ba1c240>"
      ]
     },
     "execution_count": 6,
     "metadata": {},
     "output_type": "execute_result"
    }
   ],
   "source": [
    "#Verify that this worked\n",
    "model.optimize()"
   ]
  },
  {
   "cell_type": "code",
   "execution_count": 7,
   "metadata": {},
   "outputs": [
    {
     "name": "stdout",
     "output_type": "stream",
     "text": [
      "The model can produce ATP at an optimal rate of 15.445944014005294 mmol/gDW/hr\n"
     ]
    }
   ],
   "source": [
    "#The model solves with an objective value of 0 because no objective was set (kind of a weird mathematical situation)\n",
    "#Now set the objective to ATPM and solve again\n",
    "model.reactions.ATPM.objective_coefficient = 1.\n",
    "#Force a flux through the biomass reaction\n",
    "model.reactions.BIOMASS_step3_c.lower_bound = 0.59\n",
    "#Get the optimal ATP production in M.florum\n",
    "atp_production = model.optimize()\n",
    "print(f\"The model can produce ATP at an optimal rate of {atp_production.objective_value} mmol/gDW/hr\")"
   ]
  },
  {
   "cell_type": "code",
   "execution_count": 8,
   "metadata": {},
   "outputs": [],
   "source": [
    "#Now load the model again to ensure that all modifications are erased\n",
    "model = load_latest_model()"
   ]
  },
  {
   "cell_type": "code",
   "execution_count": 9,
   "metadata": {},
   "outputs": [
    {
     "name": "stdout",
     "output_type": "stream",
     "text": [
      "The current non-growth associated maintenance cost is 15.306122 mmol/gDW/hr\n"
     ]
    }
   ],
   "source": [
    "print(f\"The current non-growth associated maintenance cost is {model.reactions.ATPM.lower_bound} mmol/gDW/hr\")"
   ]
  },
  {
   "cell_type": "code",
   "execution_count": 10,
   "metadata": {},
   "outputs": [],
   "source": [
    "#We can work with the model in a contextual way to ensure that modifications do not affect our model object\n",
    "#to do so we use the with statement. This avoids having to load the model again to erase our modifications and may save a lot\n",
    "#of computing time.\n",
    "#Let's use this with statement to modify the model's energy demands\n",
    "ngam = []\n",
    "with model:\n",
    "    for i in range(0,15):\n",
    "        model.reactions.ATPM.lower_bound = i\n",
    "        #slim_optimize is faster since it only generates the objective value\n",
    "        ngam.append(model.slim_optimize())"
   ]
  },
  {
   "cell_type": "code",
   "execution_count": 14,
   "metadata": {},
   "outputs": [
    {
     "data": {
      "text/plain": [
       "Text(0.5, 0, 'Non-growth associated maintenance')"
      ]
     },
     "execution_count": 14,
     "metadata": {},
     "output_type": "execute_result"
    },
    {
     "data": {
      "image/png": "[encoded data removed]",
      "text/plain": [
       "<Figure size 432x288 with 1 Axes>"
      ]
     },
     "metadata": {},
     "output_type": "display_data"
    }
   ],
   "source": [
    "#Plot the growth rate with varying energy demands\n",
    "fig = plt.figure()\n",
    "ax = fig.add_subplot(111)\n",
    "ax.scatter(x=range(0,15), y=ngam)\n",
    "ax.set_ylabel('Predicted growth rate',fontsize=12)\n",
    "ax.set_xlabel('Non-growth associated maintenance',fontsize=12)"
   ]
  },
  {
   "cell_type": "code",
   "execution_count": 15,
   "metadata": {},
   "outputs": [
    {
     "data": {
      "text/plain": [
       "15.306122"
      ]
     },
     "execution_count": 15,
     "metadata": {},
     "output_type": "execute_result"
    }
   ],
   "source": [
    "#Let's display the ATPM lower bound to ensure that our with statement worked correctly\n",
    "#it should be different than 15.0\n",
    "model.reactions.ATPM.lower_bound"
   ]
  },
  {
   "cell_type": "code",
   "execution_count": 17,
   "metadata": {},
   "outputs": [
    {
     "name": "stdout",
     "output_type": "stream",
     "text": [
      "The model medium contains 74 exchange reactions\n"
     ]
    }
   ],
   "source": [
    "#We can change the model medium\n",
    "#COBRApy provides a function to access the media rapidly\n",
    "print(f\"The model medium contains {len(model.medium)} exchange reactions\")"
   ]
  },
  {
   "cell_type": "code",
   "execution_count": 20,
   "metadata": {},
   "outputs": [],
   "source": [
    "#Changing the lower bounds on exchange reactions will effectively change to model medium\n",
    "#We can use that property to determine the essential components in the media\n",
    "medium_essentiality = []\n",
    "for r in model.medium:\n",
    "    with model:\n",
    "        exchange_rxn = model.reactions.get_by_id(r)\n",
    "        exchange_rxn.lower_bound = 0.\n",
    "        medium_essentiality.append({'Exchange_rxn':exchange_rxn.id, 'Solution':model.slim_optimize()})"
   ]
  },
  {
   "cell_type": "code",
   "execution_count": 26,
   "metadata": {},
   "outputs": [],
   "source": [
    "#Plot the essentiality of model components\n",
    "medium_essentiality_df = pd.DataFrame(medium_essentiality)\n",
    "medium_essentiality_df.sort_values('Solution',inplace=True)\n",
    "medium_essentiality_df.set_index('Exchange_rxn',inplace=True)"
   ]
  },
  {
   "cell_type": "code",
   "execution_count": 35,
   "metadata": {},
   "outputs": [
    {
     "data": {
      "image/png": "[encoded data removed]",
      "text/plain": [
       "<Figure size 576x1296 with 1 Axes>"
      ]
     },
     "metadata": {},
     "output_type": "display_data"
    }
   ],
   "source": [
    "fig = plt.figure(figsize=(8,18))\n",
    "ax = fig.add_subplot(111)\n",
    "medium_essentiality_df['Solution'].plot(kind='barh',ax=ax)\n",
    "ax.set_xlabel('Optimal solution',fontsize=14)\n",
    "plt.show()"
   ]
  },
  {
   "cell_type": "markdown",
   "metadata": {},
   "source": [
    "#### End of this tutorial\n",
    "\n",
    "In this tutorial, dynamic observations were made on the model by modifying some its attributes (energy demands, medium...). Whether or not these predictions are valid is not yet determined as they need to be compared with experimental data. "
   ]
  }
 ],
 "metadata": {
  "kernelspec": {
   "display_name": "Python 3",
   "language": "python",
   "name": "python3"
  },
  "language_info": {
   "codemirror_mode": {
    "name": "ipython",
    "version": 3
   },
   "file_extension": ".py",
   "mimetype": "text/x-python",
   "name": "python",
   "nbconvert_exporter": "python",
   "pygments_lexer": "ipython3",
   "version": "3.6.8"
  }
 },
 "nbformat": 4,
 "nbformat_minor": 4
}
