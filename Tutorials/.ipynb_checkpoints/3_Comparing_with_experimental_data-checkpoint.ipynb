{
 "cells": [
  {
   "cell_type": "code",
   "execution_count": 1,
   "metadata": {},
   "outputs": [],
   "source": [
    "import cobra\n",
    "import pandas as pd\n",
    "from util.manipulation import load_latest_model\n",
    "import numpy as np\n",
    "import matplotlib.pyplot as plt"
   ]
  },
  {
   "cell_type": "markdown",
   "metadata": {},
   "source": [
    "### Tutorial 3: Comparing with experimental data\n",
    "\n",
    "In this tutorial, we will compare the model predictions to experimental data. The validation of the predictions is an indicator of the reliability of a model. As we should always see things on the bright side, the predictions that were not validated by the model are opportunities to learn new biology, remember that no model is perfect but some are useful. We will compare the following model predictions with experimental data:\n",
    "\n",
    "    1- Gene essentiality\n",
    "    2- Flux states vs gene expression\n",
    "    3- Metabolic capabilities"
   ]
  },
  {
   "cell_type": "code",
   "execution_count": null,
   "metadata": {},
   "outputs": [],
   "source": []
  }
 ],
 "metadata": {
  "kernelspec": {
   "display_name": "Python 3",
   "language": "python",
   "name": "python3"
  },
  "language_info": {
   "codemirror_mode": {
    "name": "ipython",
    "version": 3
   },
   "file_extension": ".py",
   "mimetype": "text/x-python",
   "name": "python",
   "nbconvert_exporter": "python",
   "pygments_lexer": "ipython3",
   "version": "3.6.8"
  }
 },
 "nbformat": 4,
 "nbformat_minor": 4
}
