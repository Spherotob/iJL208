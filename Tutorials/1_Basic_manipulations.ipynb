{
 "cells": [
  {
   "cell_type": "code",
   "execution_count": 1,
   "metadata": {},
   "outputs": [],
   "source": [
    "import cobra\n",
    "import pandas as pd\n",
    "from util.manipulation import load_latest_model\n",
    "import numpy as np\n",
    "import matplotlib.pyplot as plt"
   ]
  },
  {
   "cell_type": "markdown",
   "metadata": {},
   "source": [
    "### Tutorial 1: General manipulations\n",
    "\n",
    "This tutorial covers the general manipulations that can performed on the *i*JL208 model. The following basic manipulations are executed:\n",
    "\n",
    "    1- Load the latest version of the model and display the number of reactions, genes and metabolites\n",
    "    2- Get the optimal solution and growth rate prediction\n",
    "    3- Get and display a predicted flux state, the number of used reactions\n",
    "    4- Formulate a single gene essentiality prediction\n",
    "    5- Using parsimonious FBA (pFBA) for results more similar to expression data"
   ]
  },
  {
   "cell_type": "code",
   "execution_count": 5,
   "metadata": {},
   "outputs": [],
   "source": [
    "#Use the util function to load the latest model from the model_versions folder\n",
    "model = load_latest_model()"
   ]
  },
  {
   "cell_type": "code",
   "execution_count": 6,
   "metadata": {},
   "outputs": [
    {
     "name": "stdout",
     "output_type": "stream",
     "text": [
      "The iJL208 with inactive CHTNDAe model contains 364 reactions, 207 genes and 348 metabolites\n"
     ]
    }
   ],
   "source": [
    "#Display the number of reactions, genes and metabolites in the model\n",
    "print(f\"The {model.name} model contains {len(model.reactions)} reactions, {len(model.genes)} genes and {len(model.metabolites)} metabolites\")"
   ]
  },
  {
   "cell_type": "code",
   "execution_count": 23,
   "metadata": {},
   "outputs": [
    {
     "name": "stdout",
     "output_type": "stream",
     "text": [
      "Mfl042 {'EC_number': {'PATRIC': '1.8.1.4', 'DETECT': '1.8.1.4', 'COFACTOR': '1.8.1.4'}, 'Sequence': 'MFKVKFADIGEGLTEGKVAEVLVKLGQEIKEGDALFFVETDKVNSEIPAPVGGKIAKVLISEGQEIKVGDVVIEIDDGSATVEAAPAAEEENASVVGSTPVSNDLIPSRGPAPTQNVAAQPTPAPVATKHTDIEESFDVIVVGAGIGGYVSAIKTAQLGLKTLIIEKQYYGGVCLNVGCIPTKSLLRTAKVFEDIVHKAANLGIDMKTKDEPSINWNKALERKDGVVNKLTGGVKVLLTKNGVKQIIGEASALDKNTISVNGKKYHCDNLIIASGSVPNELPLPGFAEGRESGFLIDSTKILSLPKIPKTLTVIGGGVIGIEFGCLFAALGTKVTVIEGAPKILPMLDQDVTALMTKTLKEKYKIEIFTNAKVKEVKGKSVVFEIDGKEQTVKSDYCLESIGRKTVTKGFDGIGLELSERKSIIANDYGETNLEGVYAIGDVTSKIMLAHVASHAGIVTANRIALKANKPDAHDIKMDYSKIPSCIYSHPEIAMIGKTEQQLKEEGVEYKTFKFPFAAIGKALADDDTTGFVKIICEPKYKTLLGAHIIGNRATDMISEFTTLIECEGTITELARAIHPHPTMSEAIGEAAEALESGKSLNL'}\n",
      "Mfl040 {'EC_number': {'PATRIC': '1.2.4.1', 'DETECT': '1.2.4.1', 'COFACTOR': '1.2.4.4'}, 'Sequence': 'MAVINNIKAVTEALDVAMDRDKNVIVFGEDVGLEGGVFRATQGLQQKYGIERSFNAPISEAMFAGVGLGMAMNGMKPVVELQFQGLGLPALQNVIANISRMRNRSRGKWTAPMVIRMPMGGGIRALEHHSEALEAIFAHIPGIKTVMPSTPYDTKGLLLAAIESPDPVIVLEPTKLYRAFKQEVPDGYYTVPIGEGYKIQEGNDLTIVTYGAQTVDCMKAVEMIKSTHPTASIELIDLRSIQPWDKKMVIESVKKTGRLLVVSEAVRSFGVPAEIIATVNENCFDSLKAPLARCTGYDVVIPYDRGEGFHQVNPQKVVEAIKKVLDYKF'}\n",
      "Mfl041 {'EC_number': {'PATRIC': '2.3.1.12', 'DETECT': '2.3.1.12', 'COFACTOR': '2.3.1.12'}, 'Sequence': 'MFKVKFADIGEGLTEGKVAEVLVKLGQEIKEGDALFFVETDKVNSEIPAPVGGKIANILISQGQEIKVGDVVIEIDDGSSAAEVTPVAEIKTKNEPIEENASVVGSTPVSNDVIASRATTNAAAEISNSGVKATPLARKIAADKKIDLSTIKGTGPHGRILVSDLDSAPVAVPNTNSATKTVVKSVDVDAPLSWDSIPMNGIRKATVKAMVKSQSENAAFTGMKNINITPTYDMRAMLKDGCESKGIKLTYLAFIVKAAAKVLEEMPNINVRIDAENNAILQVHNINIGIAVDTEKGLMVPVIKGANHLTIFEIANKIGELAKKARDGKLAMTEMKDATFTVSNFGSVGLDYATPIINSPESAILGVGTMTKTPIFVKDEIKAGWIMPFSMTCDHRIIDGGDAGRFLMKIENYLSNPALLLM'}\n",
      "Mfl039 {'EC_number': {'PATRIC': '1.2.4.1', 'COFACTOR': '1.2.4.1'}, 'Sequence': 'MKYIGKFDPQKDEIVRVMDKDGKIINPKLAPSISDEELIKAYSIMNLSRRQDDYQNKMQRQGRLLSFLSSTGQEACEVAYTMVIDPKNDFFVSGYRNNAAWLTMGQTVRNIMLYWAGNEAGAKAPEGVNSLPPNIIIGSQYSQATGIAFAEKYQGKKGVAVTTTGDGGMSEGETYEAMNFAKLHELPVVFVCENNKWAISTPTVQQTKSLNIAVKAIATGTPSIKVDGNDFLASYAVAKEAVEFARSGNGPVLIEFDTYRLGAHSSSDAPDVYRPKGEFEDRVPYEPLIRLKAYMIEKGIWSEEKQTALNEEQDKHIAAEFAWVEQNKNYPIEDIFNYQYAELTNDLKDQLAEAKEFFAKYPETKDGGHH'}\n"
     ]
    }
   ],
   "source": [
    "for g in model.reactions.PDH.genes:\n",
    "    print(g.id, g.notes)"
   ]
  },
  {
   "cell_type": "code",
   "execution_count": 32,
   "metadata": {},
   "outputs": [
    {
     "name": "stdout",
     "output_type": "stream",
     "text": [
      "#########\n",
      "PDH pyruvate dehydrogenase\n",
      "coa_c + nad_c + pyr_c --> accoa_c + co2_c + nadh_c\n",
      "{<Metabolite accoa_c at 0x7efef2503f98>: 1.0, <Metabolite co2_c at 0x7efed2554b00>: 1.0, <Metabolite coa_c at 0x7efed2554b70>: -1.0, <Metabolite nad_c at 0x7efed2559b70>: -1.0, <Metabolite nadh_c at 0x7efed2559ba8>: 1.0, <Metabolite pyr_c at 0x7efed255b518>: -1.0}\n"
     ]
    }
   ],
   "source": [
    "for r in model.genes.Mfl041.reactions:\n",
    "    print('#########')\n",
    "    print(r.id, r.name)\n",
    "    print(r.reaction)\n",
    "    print(r.metabolites)"
   ]
  },
  {
   "cell_type": "code",
   "execution_count": 38,
   "metadata": {},
   "outputs": [
    {
     "name": "stdout",
     "output_type": "stream",
     "text": [
      "55\n"
     ]
    }
   ],
   "source": [
    "l = []\n",
    "for g in model.genes:\n",
    "    if len(g.reactions) > 1:\n",
    "        l.append(g)\n",
    "        \n",
    "print(len(l))"
   ]
  },
  {
   "cell_type": "code",
   "execution_count": 28,
   "metadata": {},
   "outputs": [
    {
     "name": "stdout",
     "output_type": "stream",
     "text": [
      "Mfl017 frozenset({<Reaction SERTRS at 0x7efed23cd6a0>})\n",
      "SERTRS: atp_c + ser__L_c + trnaser_c --> amp_c + ppi_c + sertrna_c\n",
      "les metabolites {<Metabolite amp_c at 0x7efed2554470>: 1.0, <Metabolite atp_c at 0x7efed2554780>: -1.0, <Metabolite ppi_c at 0x7efed255b320>: 1.0, <Metabolite ser__L_c at 0x7efed255b748>: -1.0, <Metabolite sertrna_c at 0x7efed255b7b8>: 1.0, <Metabolite trnaser_c at 0x7efed255bef0>: -1.0}\n",
      "les metabolites associes a la reaction {<Metabolite amp_c at 0x7efed2554470>: 1.0, <Metabolite atp_c at 0x7efed2554780>: -1.0, <Metabolite ppi_c at 0x7efed255b320>: 1.0, <Metabolite ser__L_c at 0x7efed255b748>: -1.0, <Metabolite sertrna_c at 0x7efed255b7b8>: 1.0, <Metabolite trnaser_c at 0x7efed255bef0>: -1.0}\n"
     ]
    }
   ],
   "source": [
    "for g in model.genes:\n",
    "    print(g.id, g.reactions)\n",
    "    for r in g.reactions:\n",
    "        print(r)\n",
    "        print(f\"les metabolites associes a la reaction {r.metabolites}\")\n",
    "    break"
   ]
  },
  {
   "cell_type": "code",
   "execution_count": 53,
   "metadata": {},
   "outputs": [
    {
     "name": "stdout",
     "output_type": "stream",
     "text": [
      "230\n"
     ]
    }
   ],
   "source": [
    "gene_associated_reactions = []\n",
    "for r in model.reactions:\n",
    "    if len(r.genes) > 0:\n",
    "        gene_associated_reactions.append(r)\n",
    "        \n",
    "print(len(gene_associated_reactions))"
   ]
  },
  {
   "cell_type": "code",
   "execution_count": 61,
   "metadata": {},
   "outputs": [
    {
     "data": {
      "text/plain": [
       "'Mfl039 and Mfl040 and Mfl041 and Mfl042'"
      ]
     },
     "execution_count": 61,
     "metadata": {},
     "output_type": "execute_result"
    }
   ],
   "source": [
    "model.reactions.PDH.gene_reaction_rule = 'Mfl039 and Mfl040 and Mfl041 and Mfl042'\n",
    "model.reactions.PDH.gene_reaction_rule"
   ]
  },
  {
   "cell_type": "code",
   "execution_count": 62,
   "metadata": {},
   "outputs": [],
   "source": [
    "cobra.io.save_json_model(model,'iJL208_PDH.json')"
   ]
  },
  {
   "cell_type": "code",
   "execution_count": 64,
   "metadata": {},
   "outputs": [
    {
     "data": {
      "text/plain": [
       "<optlang.glpk_interface.Model at 0x7efef2503908>"
      ]
     },
     "execution_count": 64,
     "metadata": {},
     "output_type": "execute_result"
    }
   ],
   "source": [
    "model.solver"
   ]
  },
  {
   "cell_type": "code",
   "execution_count": 63,
   "metadata": {},
   "outputs": [
    {
     "name": "stdout",
     "output_type": "stream",
     "text": [
      "The iJL208 with inactive CHTNDAe has an optimal solution and the predicted growth rate is: 0.5936996697548124\n"
     ]
    }
   ],
   "source": [
    "#Get the predicted growth rate and validate that the model solves correctly\n",
    "solution = model.optimize()\n",
    "if solution.status == 'optimal':\n",
    "    print(f\"The {model.name} has an optimal solution and the predicted growth rate is: {solution.objective_value}\")\n",
    "else:\n",
    "    raise ValueError(f\"The model does not have an optimal solution, ensure the \")"
   ]
  },
  {
   "cell_type": "code",
   "execution_count": 71,
   "metadata": {},
   "outputs": [
    {
     "data": {
      "text/plain": [
       "10.199999999999987"
      ]
     },
     "execution_count": 71,
     "metadata": {},
     "output_type": "execute_result"
    }
   ],
   "source": [
    "solution.fluxes['PDH']"
   ]
  },
  {
   "cell_type": "code",
   "execution_count": 72,
   "metadata": {},
   "outputs": [
    {
     "data": {
      "text/plain": [
       "-7.384105532349308"
      ]
     },
     "execution_count": 72,
     "metadata": {},
     "output_type": "execute_result"
    }
   ],
   "source": [
    "solution.fluxes['EX_sucr_e']"
   ]
  },
  {
   "cell_type": "code",
   "execution_count": 74,
   "metadata": {},
   "outputs": [
    {
     "data": {
      "text/plain": [
       "'ENO'"
      ]
     },
     "execution_count": 74,
     "metadata": {},
     "output_type": "execute_result"
    }
   ],
   "source": [
    "solution.fluxes.idxmax()"
   ]
  },
  {
   "cell_type": "code",
   "execution_count": 75,
   "metadata": {},
   "outputs": [
    {
     "data": {
      "text/plain": [
       "'2pg_c <=> h2o_c + pep_c'"
      ]
     },
     "execution_count": 75,
     "metadata": {},
     "output_type": "execute_result"
    }
   ],
   "source": [
    "model.reactions.ENO.reaction"
   ]
  },
  {
   "cell_type": "code",
   "execution_count": 76,
   "metadata": {},
   "outputs": [
    {
     "data": {
      "text/plain": [
       "frozenset({<Gene Mfl468 at 0x7efed2570470>})"
      ]
     },
     "execution_count": 76,
     "metadata": {},
     "output_type": "execute_result"
    }
   ],
   "source": [
    "model.reactions.ENO.genes"
   ]
  },
  {
   "cell_type": "code",
   "execution_count": 78,
   "metadata": {},
   "outputs": [
    {
     "data": {
      "text/plain": [
       "'Phosphoenolpyruvate'"
      ]
     },
     "execution_count": 78,
     "metadata": {},
     "output_type": "execute_result"
    }
   ],
   "source": [
    "model.metabolites.pep_c.name"
   ]
  },
  {
   "cell_type": "code",
   "execution_count": 79,
   "metadata": {},
   "outputs": [
    {
     "data": {
      "text/plain": [
       "<matplotlib.axes._subplots.AxesSubplot at 0x7efed24b7c88>"
      ]
     },
     "execution_count": 79,
     "metadata": {},
     "output_type": "execute_result"
    },
    {
     "data": {
      "image/png": "[encoded data removed]",
      "text/plain": [
       "<Figure size 432x288 with 1 Axes>"
      ]
     },
     "metadata": {},
     "output_type": "display_data"
    }
   ],
   "source": [
    "#Plot the predicted flux state\n",
    "predicted_fluxes = pd.DataFrame({'Predicted fluxes':solution.fluxes.to_list()},index=solution.fluxes.index.to_list())\n",
    "predicted_fluxes.plot(kind='hist')"
   ]
  },
  {
   "cell_type": "code",
   "execution_count": 81,
   "metadata": {},
   "outputs": [
    {
     "name": "stdout",
     "output_type": "stream",
     "text": [
      "The model has 217 used reactions and 147 unused reactions\n"
     ]
    }
   ],
   "source": [
    "#Get the number of used/unused reactions, those are the reactions for which no flux is predicted\n",
    "used_reactions = predicted_fluxes[predicted_fluxes['Predicted fluxes']!=0]\n",
    "unused_reactions = predicted_fluxes[predicted_fluxes['Predicted fluxes']==0]\n",
    "print(f\"The model has {len(used_reactions)} used reactions and {len(unused_reactions)} unused reactions\")"
   ]
  },
  {
   "cell_type": "code",
   "execution_count": 82,
   "metadata": {},
   "outputs": [],
   "source": [
    "#Formulate a single gene essentiality prediction\n",
    "from cobra.flux_analysis import single_gene_deletion\n",
    "single_gene_essentiality_prediction = single_gene_deletion(model)"
   ]
  },
  {
   "cell_type": "code",
   "execution_count": 83,
   "metadata": {},
   "outputs": [
    {
     "data": {
      "text/html": [
       "<div>\n",
       "<style scoped>\n",
       "    .dataframe tbody tr th:only-of-type {\n",
       "        vertical-align: middle;\n",
       "    }\n",
       "\n",
       "    .dataframe tbody tr th {\n",
       "        vertical-align: top;\n",
       "    }\n",
       "\n",
       "    .dataframe thead th {\n",
       "        text-align: right;\n",
       "    }\n",
       "</style>\n",
       "<table border=\"1\" class=\"dataframe\">\n",
       "  <thead>\n",
       "    <tr style=\"text-align: right;\">\n",
       "      <th></th>\n",
       "      <th>growth</th>\n",
       "      <th>status</th>\n",
       "    </tr>\n",
       "    <tr>\n",
       "      <th>ids</th>\n",
       "      <th></th>\n",
       "      <th></th>\n",
       "    </tr>\n",
       "  </thead>\n",
       "  <tbody>\n",
       "    <tr>\n",
       "      <th>(Mfl490)</th>\n",
       "      <td>9.697894e-15</td>\n",
       "      <td>optimal</td>\n",
       "    </tr>\n",
       "    <tr>\n",
       "      <th>(Mfl031)</th>\n",
       "      <td>5.936997e-01</td>\n",
       "      <td>optimal</td>\n",
       "    </tr>\n",
       "    <tr>\n",
       "      <th>(Mfl465)</th>\n",
       "      <td>5.936997e-01</td>\n",
       "      <td>optimal</td>\n",
       "    </tr>\n",
       "    <tr>\n",
       "      <th>(Mfl116)</th>\n",
       "      <td>4.417793e-01</td>\n",
       "      <td>optimal</td>\n",
       "    </tr>\n",
       "    <tr>\n",
       "      <th>(Mfl356)</th>\n",
       "      <td>5.936997e-01</td>\n",
       "      <td>optimal</td>\n",
       "    </tr>\n",
       "    <tr>\n",
       "      <th>(Mfl617)</th>\n",
       "      <td>5.936997e-01</td>\n",
       "      <td>optimal</td>\n",
       "    </tr>\n",
       "    <tr>\n",
       "      <th>(Mfl120)</th>\n",
       "      <td>1.024206e-14</td>\n",
       "      <td>optimal</td>\n",
       "    </tr>\n",
       "    <tr>\n",
       "      <th>(Mfl109)</th>\n",
       "      <td>4.417793e-01</td>\n",
       "      <td>optimal</td>\n",
       "    </tr>\n",
       "    <tr>\n",
       "      <th>(Mfl521)</th>\n",
       "      <td>1.326846e-16</td>\n",
       "      <td>optimal</td>\n",
       "    </tr>\n",
       "    <tr>\n",
       "      <th>(Mfl502)</th>\n",
       "      <td>NaN</td>\n",
       "      <td>infeasible</td>\n",
       "    </tr>\n",
       "    <tr>\n",
       "      <th>(Mfl613)</th>\n",
       "      <td>1.326846e-16</td>\n",
       "      <td>optimal</td>\n",
       "    </tr>\n",
       "    <tr>\n",
       "      <th>(Mfl643)</th>\n",
       "      <td>5.936997e-01</td>\n",
       "      <td>optimal</td>\n",
       "    </tr>\n",
       "    <tr>\n",
       "      <th>(Mfl214)</th>\n",
       "      <td>0.000000e+00</td>\n",
       "      <td>optimal</td>\n",
       "    </tr>\n",
       "    <tr>\n",
       "      <th>(Mfl060)</th>\n",
       "      <td>5.936997e-01</td>\n",
       "      <td>optimal</td>\n",
       "    </tr>\n",
       "    <tr>\n",
       "      <th>(Mfl026)</th>\n",
       "      <td>5.921175e-01</td>\n",
       "      <td>optimal</td>\n",
       "    </tr>\n",
       "    <tr>\n",
       "      <th>(Mfl668)</th>\n",
       "      <td>5.936997e-01</td>\n",
       "      <td>optimal</td>\n",
       "    </tr>\n",
       "    <tr>\n",
       "      <th>(Mfl500)</th>\n",
       "      <td>5.936997e-01</td>\n",
       "      <td>optimal</td>\n",
       "    </tr>\n",
       "    <tr>\n",
       "      <th>(Mfl145)</th>\n",
       "      <td>5.936997e-01</td>\n",
       "      <td>optimal</td>\n",
       "    </tr>\n",
       "    <tr>\n",
       "      <th>(Mfl526)</th>\n",
       "      <td>5.936997e-01</td>\n",
       "      <td>optimal</td>\n",
       "    </tr>\n",
       "    <tr>\n",
       "      <th>(Mfl664)</th>\n",
       "      <td>5.936997e-01</td>\n",
       "      <td>optimal</td>\n",
       "    </tr>\n",
       "    <tr>\n",
       "      <th>(Mfl399)</th>\n",
       "      <td>1.992023e-16</td>\n",
       "      <td>optimal</td>\n",
       "    </tr>\n",
       "    <tr>\n",
       "      <th>(Mfl562)</th>\n",
       "      <td>5.936997e-01</td>\n",
       "      <td>optimal</td>\n",
       "    </tr>\n",
       "    <tr>\n",
       "      <th>(Mfl096)</th>\n",
       "      <td>9.960117e-17</td>\n",
       "      <td>optimal</td>\n",
       "    </tr>\n",
       "    <tr>\n",
       "      <th>(Mfl286)</th>\n",
       "      <td>9.960117e-17</td>\n",
       "      <td>optimal</td>\n",
       "    </tr>\n",
       "    <tr>\n",
       "      <th>(Mfl340)</th>\n",
       "      <td>-9.960117e-17</td>\n",
       "      <td>optimal</td>\n",
       "    </tr>\n",
       "    <tr>\n",
       "      <th>(Mfl497)</th>\n",
       "      <td>5.936997e-01</td>\n",
       "      <td>optimal</td>\n",
       "    </tr>\n",
       "    <tr>\n",
       "      <th>(Mfl025)</th>\n",
       "      <td>5.921175e-01</td>\n",
       "      <td>optimal</td>\n",
       "    </tr>\n",
       "    <tr>\n",
       "      <th>(Mfl112)</th>\n",
       "      <td>4.417793e-01</td>\n",
       "      <td>optimal</td>\n",
       "    </tr>\n",
       "    <tr>\n",
       "      <th>(Mfl042)</th>\n",
       "      <td>NaN</td>\n",
       "      <td>infeasible</td>\n",
       "    </tr>\n",
       "    <tr>\n",
       "      <th>(Mfl248)</th>\n",
       "      <td>-2.248424e-16</td>\n",
       "      <td>optimal</td>\n",
       "    </tr>\n",
       "    <tr>\n",
       "      <th>...</th>\n",
       "      <td>...</td>\n",
       "      <td>...</td>\n",
       "    </tr>\n",
       "    <tr>\n",
       "      <th>(Mfl591)</th>\n",
       "      <td>-1.489240e-16</td>\n",
       "      <td>optimal</td>\n",
       "    </tr>\n",
       "    <tr>\n",
       "      <th>(Mfl095)</th>\n",
       "      <td>-1.489240e-16</td>\n",
       "      <td>optimal</td>\n",
       "    </tr>\n",
       "    <tr>\n",
       "      <th>(Mfl529)</th>\n",
       "      <td>-1.489240e-16</td>\n",
       "      <td>optimal</td>\n",
       "    </tr>\n",
       "    <tr>\n",
       "      <th>(Mfl162)</th>\n",
       "      <td>5.936997e-01</td>\n",
       "      <td>optimal</td>\n",
       "    </tr>\n",
       "    <tr>\n",
       "      <th>(Mfl554)</th>\n",
       "      <td>-1.489240e-16</td>\n",
       "      <td>optimal</td>\n",
       "    </tr>\n",
       "    <tr>\n",
       "      <th>(Mfl174)</th>\n",
       "      <td>NaN</td>\n",
       "      <td>infeasible</td>\n",
       "    </tr>\n",
       "    <tr>\n",
       "      <th>(Mfl590)</th>\n",
       "      <td>-4.467720e-16</td>\n",
       "      <td>optimal</td>\n",
       "    </tr>\n",
       "    <tr>\n",
       "      <th>(Mfl663)</th>\n",
       "      <td>-5.191565e-16</td>\n",
       "      <td>optimal</td>\n",
       "    </tr>\n",
       "    <tr>\n",
       "      <th>(Mfl097)</th>\n",
       "      <td>-5.191565e-16</td>\n",
       "      <td>optimal</td>\n",
       "    </tr>\n",
       "    <tr>\n",
       "      <th>(Mfl163)</th>\n",
       "      <td>5.936997e-01</td>\n",
       "      <td>optimal</td>\n",
       "    </tr>\n",
       "    <tr>\n",
       "      <th>(Mfl233)</th>\n",
       "      <td>1.596311e-01</td>\n",
       "      <td>optimal</td>\n",
       "    </tr>\n",
       "    <tr>\n",
       "      <th>(Mfl119)</th>\n",
       "      <td>-3.941084e-15</td>\n",
       "      <td>optimal</td>\n",
       "    </tr>\n",
       "    <tr>\n",
       "      <th>(Mfl023)</th>\n",
       "      <td>5.921175e-01</td>\n",
       "      <td>optimal</td>\n",
       "    </tr>\n",
       "    <tr>\n",
       "      <th>(Mfl074)</th>\n",
       "      <td>5.936997e-01</td>\n",
       "      <td>optimal</td>\n",
       "    </tr>\n",
       "    <tr>\n",
       "      <th>(Mfl167)</th>\n",
       "      <td>5.936997e-01</td>\n",
       "      <td>optimal</td>\n",
       "    </tr>\n",
       "    <tr>\n",
       "      <th>(Mfl177)</th>\n",
       "      <td>1.428043e-16</td>\n",
       "      <td>optimal</td>\n",
       "    </tr>\n",
       "    <tr>\n",
       "      <th>(Mfl334)</th>\n",
       "      <td>5.936997e-01</td>\n",
       "      <td>optimal</td>\n",
       "    </tr>\n",
       "    <tr>\n",
       "      <th>(Mfl070)</th>\n",
       "      <td>5.936997e-01</td>\n",
       "      <td>optimal</td>\n",
       "    </tr>\n",
       "    <tr>\n",
       "      <th>(Mfl198)</th>\n",
       "      <td>2.261068e-16</td>\n",
       "      <td>optimal</td>\n",
       "    </tr>\n",
       "    <tr>\n",
       "      <th>(Mfl425)</th>\n",
       "      <td>5.936997e-01</td>\n",
       "      <td>optimal</td>\n",
       "    </tr>\n",
       "    <tr>\n",
       "      <th>(Mfl064)</th>\n",
       "      <td>-3.570108e-17</td>\n",
       "      <td>optimal</td>\n",
       "    </tr>\n",
       "    <tr>\n",
       "      <th>(Mfl175)</th>\n",
       "      <td>NaN</td>\n",
       "      <td>infeasible</td>\n",
       "    </tr>\n",
       "    <tr>\n",
       "      <th>(Mfl041)</th>\n",
       "      <td>NaN</td>\n",
       "      <td>infeasible</td>\n",
       "    </tr>\n",
       "    <tr>\n",
       "      <th>(Mfl187)</th>\n",
       "      <td>5.936997e-01</td>\n",
       "      <td>optimal</td>\n",
       "    </tr>\n",
       "    <tr>\n",
       "      <th>(Mfl215)</th>\n",
       "      <td>4.587724e-01</td>\n",
       "      <td>optimal</td>\n",
       "    </tr>\n",
       "    <tr>\n",
       "      <th>(Mfl565)</th>\n",
       "      <td>NaN</td>\n",
       "      <td>infeasible</td>\n",
       "    </tr>\n",
       "    <tr>\n",
       "      <th>(Mfl114)</th>\n",
       "      <td>4.417793e-01</td>\n",
       "      <td>optimal</td>\n",
       "    </tr>\n",
       "    <tr>\n",
       "      <th>(Mfl315)</th>\n",
       "      <td>5.936997e-01</td>\n",
       "      <td>optimal</td>\n",
       "    </tr>\n",
       "    <tr>\n",
       "      <th>(Mfl076)</th>\n",
       "      <td>-9.777995e-14</td>\n",
       "      <td>optimal</td>\n",
       "    </tr>\n",
       "    <tr>\n",
       "      <th>(Mfl347)</th>\n",
       "      <td>5.936997e-01</td>\n",
       "      <td>optimal</td>\n",
       "    </tr>\n",
       "  </tbody>\n",
       "</table>\n",
       "<p>207 rows × 2 columns</p>\n",
       "</div>"
      ],
      "text/plain": [
       "                growth      status\n",
       "ids                               \n",
       "(Mfl490)  9.697894e-15     optimal\n",
       "(Mfl031)  5.936997e-01     optimal\n",
       "(Mfl465)  5.936997e-01     optimal\n",
       "(Mfl116)  4.417793e-01     optimal\n",
       "(Mfl356)  5.936997e-01     optimal\n",
       "(Mfl617)  5.936997e-01     optimal\n",
       "(Mfl120)  1.024206e-14     optimal\n",
       "(Mfl109)  4.417793e-01     optimal\n",
       "(Mfl521)  1.326846e-16     optimal\n",
       "(Mfl502)           NaN  infeasible\n",
       "(Mfl613)  1.326846e-16     optimal\n",
       "(Mfl643)  5.936997e-01     optimal\n",
       "(Mfl214)  0.000000e+00     optimal\n",
       "(Mfl060)  5.936997e-01     optimal\n",
       "(Mfl026)  5.921175e-01     optimal\n",
       "(Mfl668)  5.936997e-01     optimal\n",
       "(Mfl500)  5.936997e-01     optimal\n",
       "(Mfl145)  5.936997e-01     optimal\n",
       "(Mfl526)  5.936997e-01     optimal\n",
       "(Mfl664)  5.936997e-01     optimal\n",
       "(Mfl399)  1.992023e-16     optimal\n",
       "(Mfl562)  5.936997e-01     optimal\n",
       "(Mfl096)  9.960117e-17     optimal\n",
       "(Mfl286)  9.960117e-17     optimal\n",
       "(Mfl340) -9.960117e-17     optimal\n",
       "(Mfl497)  5.936997e-01     optimal\n",
       "(Mfl025)  5.921175e-01     optimal\n",
       "(Mfl112)  4.417793e-01     optimal\n",
       "(Mfl042)           NaN  infeasible\n",
       "(Mfl248) -2.248424e-16     optimal\n",
       "...                ...         ...\n",
       "(Mfl591) -1.489240e-16     optimal\n",
       "(Mfl095) -1.489240e-16     optimal\n",
       "(Mfl529) -1.489240e-16     optimal\n",
       "(Mfl162)  5.936997e-01     optimal\n",
       "(Mfl554) -1.489240e-16     optimal\n",
       "(Mfl174)           NaN  infeasible\n",
       "(Mfl590) -4.467720e-16     optimal\n",
       "(Mfl663) -5.191565e-16     optimal\n",
       "(Mfl097) -5.191565e-16     optimal\n",
       "(Mfl163)  5.936997e-01     optimal\n",
       "(Mfl233)  1.596311e-01     optimal\n",
       "(Mfl119) -3.941084e-15     optimal\n",
       "(Mfl023)  5.921175e-01     optimal\n",
       "(Mfl074)  5.936997e-01     optimal\n",
       "(Mfl167)  5.936997e-01     optimal\n",
       "(Mfl177)  1.428043e-16     optimal\n",
       "(Mfl334)  5.936997e-01     optimal\n",
       "(Mfl070)  5.936997e-01     optimal\n",
       "(Mfl198)  2.261068e-16     optimal\n",
       "(Mfl425)  5.936997e-01     optimal\n",
       "(Mfl064) -3.570108e-17     optimal\n",
       "(Mfl175)           NaN  infeasible\n",
       "(Mfl041)           NaN  infeasible\n",
       "(Mfl187)  5.936997e-01     optimal\n",
       "(Mfl215)  4.587724e-01     optimal\n",
       "(Mfl565)           NaN  infeasible\n",
       "(Mfl114)  4.417793e-01     optimal\n",
       "(Mfl315)  5.936997e-01     optimal\n",
       "(Mfl076) -9.777995e-14     optimal\n",
       "(Mfl347)  5.936997e-01     optimal\n",
       "\n",
       "[207 rows x 2 columns]"
      ]
     },
     "execution_count": 83,
     "metadata": {},
     "output_type": "execute_result"
    }
   ],
   "source": [
    "single_gene_essentiality_prediction"
   ]
  },
  {
   "cell_type": "code",
   "execution_count": 84,
   "metadata": {},
   "outputs": [],
   "source": [
    "#Get the list of essential gene\n",
    "#Define a threshold for essential as 50% of the original growth rate\n",
    "essentiality_threshold = solution.objective_value * 0.5\n",
    "#Essential genes have a predicted growth rate inferior or equal to the threshold or NaN\n",
    "essential_genes = [list(g)[0] for g in single_gene_essentiality_prediction[(single_gene_essentiality_prediction['growth']<=essentiality_threshold)\\\n",
    "                                                                          |(single_gene_essentiality_prediction['growth'].isna())].index]\n",
    "#Non essential genes have a predicted growth rate higher than threshold\n",
    "non_essential_genes = [list(g)[0] for g in single_gene_essentiality_prediction[single_gene_essentiality_prediction['growth']> essentiality_threshold].index]"
   ]
  },
  {
   "cell_type": "code",
   "execution_count": 85,
   "metadata": {},
   "outputs": [
    {
     "name": "stdout",
     "output_type": "stream",
     "text": [
      "The model has 97 essential genes and 110 non essentials\n"
     ]
    }
   ],
   "source": [
    "#Display the number of essential and non essential genes\n",
    "print(f\"The model has {len(essential_genes)} essential genes and {len(non_essential_genes)} non essentials\")"
   ]
  },
  {
   "cell_type": "code",
   "execution_count": 86,
   "metadata": {},
   "outputs": [],
   "source": [
    "#Optimize the model using pFBA\n",
    "from cobra.flux_analysis import pfba"
   ]
  },
  {
   "cell_type": "code",
   "execution_count": 87,
   "metadata": {},
   "outputs": [],
   "source": [
    "#Generate the pFBA solution\n",
    "pfba_solution = pfba(model)\n",
    "#This solution contains the same elements as a regular FBA solution \n",
    "#--> objective_value, fluxes, shadow_prices, reduced_costs and status"
   ]
  },
  {
   "cell_type": "code",
   "execution_count": 88,
   "metadata": {},
   "outputs": [],
   "source": [
    "#Now compare the two flux predictions\n",
    "#Plot the predicted flux state\n",
    "pfba_predicted_fluxes = pd.DataFrame({'pFBA predicted fluxes':pfba_solution.fluxes.to_list()},index=pfba_solution.fluxes.index.to_list())"
   ]
  },
  {
   "cell_type": "code",
   "execution_count": 89,
   "metadata": {},
   "outputs": [
    {
     "data": {
      "text/plain": [
       "Text(0, 0.5, 'pFBA')"
      ]
     },
     "execution_count": 89,
     "metadata": {},
     "output_type": "execute_result"
    },
    {
     "data": {
      "image/png": "[encoded data removed]",
      "text/plain": [
       "<Figure size 720x720 with 1 Axes>"
      ]
     },
     "metadata": {},
     "output_type": "display_data"
    }
   ],
   "source": [
    "#Compare the two flux distributions \n",
    "fig = plt.figure(figsize=(10,10))\n",
    "ax = fig.add_subplot(111)\n",
    "x = predicted_fluxes['Predicted fluxes'].tolist()\n",
    "y = pfba_predicted_fluxes['pFBA predicted fluxes'].tolist()\n",
    "ax.scatter(x=x,y=y)\n",
    "\n",
    "#Display on log scale\n",
    "ax.set_yscale('log')\n",
    "ax.set_xscale('log')\n",
    "ax.set_xlim(1e-3,1e2)\n",
    "ax.set_ylim(1e-3,1e2)\n",
    "ax.set_xlabel('FBA')\n",
    "ax.set_ylabel('pFBA')"
   ]
  },
  {
   "cell_type": "code",
   "execution_count": 90,
   "metadata": {},
   "outputs": [
    {
     "data": {
      "text/html": [
       "<div>\n",
       "<style scoped>\n",
       "    .dataframe tbody tr th:only-of-type {\n",
       "        vertical-align: middle;\n",
       "    }\n",
       "\n",
       "    .dataframe tbody tr th {\n",
       "        vertical-align: top;\n",
       "    }\n",
       "\n",
       "    .dataframe thead th {\n",
       "        text-align: right;\n",
       "    }\n",
       "</style>\n",
       "<table border=\"1\" class=\"dataframe\">\n",
       "  <thead>\n",
       "    <tr style=\"text-align: right;\">\n",
       "      <th></th>\n",
       "      <th>Predicted fluxes</th>\n",
       "      <th>pFBA predicted fluxes</th>\n",
       "      <th>difference</th>\n",
       "    </tr>\n",
       "  </thead>\n",
       "  <tbody>\n",
       "    <tr>\n",
       "      <th>EX_gly_met__L_e</th>\n",
       "      <td>-0.054765</td>\n",
       "      <td>0.000000</td>\n",
       "      <td>0.054765</td>\n",
       "    </tr>\n",
       "    <tr>\n",
       "      <th>EX_h2o_e</th>\n",
       "      <td>-4.303542</td>\n",
       "      <td>-4.248777</td>\n",
       "      <td>0.054765</td>\n",
       "    </tr>\n",
       "    <tr>\n",
       "      <th>METabc</th>\n",
       "      <td>0.000000</td>\n",
       "      <td>0.054765</td>\n",
       "      <td>0.054765</td>\n",
       "    </tr>\n",
       "  </tbody>\n",
       "</table>\n",
       "</div>"
      ],
      "text/plain": [
       "                 Predicted fluxes  pFBA predicted fluxes  difference\n",
       "EX_gly_met__L_e         -0.054765               0.000000    0.054765\n",
       "EX_h2o_e                -4.303542              -4.248777    0.054765\n",
       "METabc                   0.000000               0.054765    0.054765"
      ]
     },
     "execution_count": 90,
     "metadata": {},
     "output_type": "execute_result"
    }
   ],
   "source": [
    "#Get the flux predictions difference\n",
    "all_fluxes = pd.concat([predicted_fluxes,pfba_predicted_fluxes],axis=1,sort=True)\n",
    "all_fluxes['difference'] = all_fluxes['pFBA predicted fluxes'] - all_fluxes['Predicted fluxes']\n",
    "#Display\n",
    "all_fluxes[all_fluxes['difference'] > 1e-9]"
   ]
  },
  {
   "cell_type": "markdown",
   "metadata": {},
   "source": [
    "#### End of the first tutorial\n",
    "\n",
    "In this tutorial, only static observations of the model were performed and slighlty compared to one another. In Tutorial 2, we will apply modifications to the model, generate and compare new predictions resulting from these modifications. "
   ]
  }
 ],
 "metadata": {
  "kernelspec": {
   "display_name": "Python 3",
   "language": "python",
   "name": "python3"
  },
  "language_info": {
   "codemirror_mode": {
    "name": "ipython",
    "version": 3
   },
   "file_extension": ".py",
   "mimetype": "text/x-python",
   "name": "python",
   "nbconvert_exporter": "python",
   "pygments_lexer": "ipython3",
   "version": "3.7.9"
  }
 },
 "nbformat": 4,
 "nbformat_minor": 4
}
