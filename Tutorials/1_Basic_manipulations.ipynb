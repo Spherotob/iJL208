{
 "cells": [
  {
   "cell_type": "code",
   "execution_count": 1,
   "metadata": {},
   "outputs": [],
   "source": [
    "import cobra\n",
    "import pandas as pd\n",
    "from util.manipulation import load_latest_model\n",
    "import numpy as np\n",
    "import matplotlib.pyplot as plt"
   ]
  },
  {
   "cell_type": "markdown",
   "metadata": {},
   "source": [
    "### Tutorial 1: General manipulations\n",
    "\n",
    "This tutorial covers the general manipulations that can performed on the *i*JL208 model. The following basic manipulations are executed:\n",
    "\n",
    "    1- Load the latest version of the model and display the number of reactions, genes and metabolites\n",
    "    2- Get the optimal solution and growth rate prediction\n",
    "    3- Get and display a predicted flux state, the number of used reactions\n",
    "    4- Formulate a single gene essentiality prediction\n",
    "    5- "
   ]
  },
  {
   "cell_type": "code",
   "execution_count": 2,
   "metadata": {},
   "outputs": [],
   "source": [
    "#Use the util function to load the latest model from the model_versions folder\n",
    "model = load_latest_model()"
   ]
  },
  {
   "cell_type": "code",
   "execution_count": 5,
   "metadata": {},
   "outputs": [
    {
     "name": "stdout",
     "output_type": "stream",
     "text": [
      "The iJL208 with inactive CHTNDAe model contains 364 reactions, 207 genes and 348 metabolites\n"
     ]
    }
   ],
   "source": [
    "#Display the number of reactions, genes and metabolites in the model\n",
    "print(f\"The {model.name} model contains {len(model.reactions)} reactions, {len(model.genes)} genes and {len(model.metabolites)} metabolites\")"
   ]
  },
  {
   "cell_type": "code",
   "execution_count": 6,
   "metadata": {},
   "outputs": [],
   "source": [
    "#Get the predicted growth rate and validate that the model solves correctly\n",
    "solution = model.optimize()\n",
    "if solution.status == 'optimal':\n",
    "    print(f\"The {model.name} has an optimal solution and the predicted growth rate is: {solution.objective_value}\")\n",
    "else:\n",
    "    raise ValueError(f\"The model does not have an optimal solution, ensure the )"
   ]
  },
  {
   "cell_type": "code",
   "execution_count": 11,
   "metadata": {},
   "outputs": [
    {
     "data": {
      "text/plain": [
       "<matplotlib.axes._subplots.AxesSubplot at 0x7fbd1133ab00>"
      ]
     },
     "execution_count": 11,
     "metadata": {},
     "output_type": "execute_result"
    },
    {
     "data": {
      "image/png": "[encoded data removed]",
      "text/plain": [
       "<Figure size 432x288 with 1 Axes>"
      ]
     },
     "metadata": {},
     "output_type": "display_data"
    }
   ],
   "source": [
    "#Plot the predicted flux state\n",
    "predicted_fluxes = pd.DataFrame({'Predicted fluxes':solution.fluxes.to_list()},index=solution.fluxes.index.to_list())\n",
    "predicted_fluxes.plot(kind='hist')"
   ]
  },
  {
   "cell_type": "code",
   "execution_count": 14,
   "metadata": {},
   "outputs": [
    {
     "name": "stdout",
     "output_type": "stream",
     "text": [
      "The model has 217 used reactions and 147 unused reactions\n"
     ]
    }
   ],
   "source": [
    "#Get the number of used/unused reactions, those are the reactions for which no flux is predicted\n",
    "used_reactions = predicted_fluxes[predicted_fluxes['Predicted fluxes']!=0]\n",
    "unused_reactions = predicted_fluxes[predicted_fluxes['Predicted fluxes']==0]\n",
    "print(f\"The model has {len(used_reactions)} used reactions and {len(unused_reactions)} unused reactions\")"
   ]
  },
  {
   "cell_type": "code",
   "execution_count": null,
   "metadata": {},
   "outputs": [],
   "source": [
    "#Formulate a single gene essentiality prediction\n"
   ]
  }
 ],
 "metadata": {
  "kernelspec": {
   "display_name": "Python 3",
   "language": "python",
   "name": "python3"
  },
  "language_info": {
   "codemirror_mode": {
    "name": "ipython",
    "version": 3
   },
   "file_extension": ".py",
   "mimetype": "text/x-python",
   "name": "python",
   "nbconvert_exporter": "python",
   "pygments_lexer": "ipython3",
   "version": "3.6.8"
  }
 },
 "nbformat": 4,
 "nbformat_minor": 4
}
